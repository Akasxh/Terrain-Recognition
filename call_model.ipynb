{
  "nbformat": 4,
  "nbformat_minor": 0,
  "metadata": {
    "colab": {
      "provenance": [],
      "authorship_tag": "ABX9TyOSxW22ES0yBozngr63tDN+",
      "include_colab_link": true
    },
    "kernelspec": {
      "name": "python3",
      "display_name": "Python 3"
    },
    "language_info": {
      "name": "python"
    }
  },
  "cells": [
    {
      "cell_type": "markdown",
      "metadata": {
        "id": "view-in-github",
        "colab_type": "text"
      },
      "source": [
        "<a href=\"https://colab.research.google.com/github/Akasxh/Terrain-Recognition/blob/main/call_model.ipynb\" target=\"_parent\"><img src=\"https://colab.research.google.com/assets/colab-badge.svg\" alt=\"Open In Colab\"/></a>"
      ]
    },
    {
      "cell_type": "code",
      "source": [
        "import numpy as np"
      ],
      "metadata": {
        "id": "Enunxn2SAbon"
      },
      "execution_count": null,
      "outputs": []
    },
    {
      "cell_type": "code",
      "execution_count": null,
      "metadata": {
        "id": "qGCP755lADXU"
      },
      "outputs": [],
      "source": [
        "from keras.preprocessing.image import ImageDataGenerator\n",
        "from google.colab import drive\n",
        "from keras.preprocessing import image\n",
        "from keras.models import Sequential\n",
        "from keras.layers import Conv2D\n",
        "from keras.layers import MaxPooling2D\n",
        "from keras.layers import Flatten\n",
        "from keras.layers import Dense\n",
        "from keras.models import load_model"
      ]
    },
    {
      "cell_type": "markdown",
      "source": [
        "now load the pre-trained model I have shared."
      ],
      "metadata": {
        "id": "9C4OTPcWAjhz"
      }
    },
    {
      "cell_type": "code",
      "source": [
        "#try using collab as it's user friendly with drive\n",
        "classifier = load_model('model path')"
      ],
      "metadata": {
        "id": "LfGnGO7NAbJx"
      },
      "execution_count": null,
      "outputs": []
    },
    {
      "cell_type": "code",
      "source": [
        "#Now we test the model\n",
        "\n",
        "test_image = image.load_img('give file path to a .jpeg picture', target_size = (64, 64))\n",
        "# Add a 3rd Color dimension to match Model expectation\n",
        "test_image = image.img_to_array(test_image)\n",
        "# Add one more dimension to beginning of image array so 'Predict' function can receive it (corresponds to Batch, even if only one batch)\n",
        "test_image = np.expand_dims(test_image, axis = 0)"
      ],
      "metadata": {
        "id": "4hb_jkVMA5QX"
      },
      "execution_count": null,
      "outputs": []
    },
    {
      "cell_type": "code",
      "source": [
        "result = classifier.predict(test_image)"
      ],
      "metadata": {
        "id": "NJb6CNV_BHp4"
      },
      "execution_count": null,
      "outputs": []
    },
    {
      "cell_type": "code",
      "source": [
        "# We now need to pull up the mapping\n",
        "training_set.class_indices\n",
        "\n",
        "print(\"The model class indices are:\", training_set.class_indices)"
      ],
      "metadata": {
        "id": "Y6n4zawvBM1m"
      },
      "execution_count": null,
      "outputs": []
    },
    {
      "cell_type": "code",
      "source": [
        "class_labels = ['Coast', 'Desert', 'Forest', 'Glacier', 'Mountain']\n",
        "\n",
        "# Get the index of the predicted class\n",
        "predicted_class_index = np.argmax(result, axis=1)[0]\n",
        "\n",
        "# Use the index to get the class label\n",
        "prediction = class_labels[predicted_class_index]"
      ],
      "metadata": {
        "id": "ygUa8ut2BQGD"
      },
      "execution_count": null,
      "outputs": []
    },
    {
      "cell_type": "code",
      "source": [
        "print(\"Prediction: \" + prediction)"
      ],
      "metadata": {
        "id": "Eel0lRAWBUdb"
      },
      "execution_count": null,
      "outputs": []
    }
  ]
}
