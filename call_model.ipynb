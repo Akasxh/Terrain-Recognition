{
  "cells": [
    {
      "cell_type": "markdown",
      "metadata": {
        "colab_type": "text",
        "id": "view-in-github"
      },
      "source": [
        "<a href=\"https://colab.research.google.com/github/Akasxh/Terrain-Recognition/blob/main/call_model.ipynb\" target=\"_parent\"><img src=\"https://colab.research.google.com/assets/colab-badge.svg\" alt=\"Open In Colab\"/></a>"
      ]
    },
    {
      "cell_type": "markdown",
      "metadata": {},
      "source": [
        "### Importing Required Libraries\n",
        "This section imports necessary libraries and packages such as TensorFlow, Keras, and other utilities for building and training the model."
      ]
    },
    {
      "cell_type": "code",
      "execution_count": null,
      "metadata": {
        "id": "qGCP755lADXU"
      },
      "outputs": [],
      "source": [
        "# Importing necessary libraries for image processing and model loading\n",
        "import numpy as np\n",
        "from keras.preprocessing.image import ImageDataGenerator\n",
        "from google.colab import drive\n",
        "from keras.preprocessing import image\n",
        "from keras.models import Sequential\n",
        "from keras.layers import Conv2D\n",
        "from keras.layers import MaxPooling2D\n",
        "from keras.layers import Flatten\n",
        "from keras.layers import Dense\n",
        "from keras.models import load_model"
      ]
    },
    {
      "cell_type": "markdown",
      "metadata": {
        "id": "9C4OTPcWAjhz"
      },
      "source": [
        "### Loading the Pre-trained Model\n",
        "This section loads the provided pre-trained model from the specified path. Ensure that the correct model path is provided."
      ]
    },
    {
      "cell_type": "code",
      "execution_count": null,
      "metadata": {
        "id": "LfGnGO7NAbJx"
      },
      "outputs": [],
      "source": [
        "# Load the pre-trained model from the provided path\n",
        "# Ensure that the correct path to the model file is given\n",
        "classifier = load_model('model path')"
      ]
    },
    {
      "cell_type": "markdown",
      "metadata": {},
      "source": [
        "### Testing the Model on a New Image\n",
        "We now load an image, preprocess it to match the model's input size, and pass it to the model for prediction."
      ]
    },
    {
      "cell_type": "code",
      "execution_count": null,
      "metadata": {
        "id": "4hb_jkVMA5QX"
      },
      "outputs": [],
      "source": [
        "# Load an image file and preprocess it for the model\n",
        "test_image = image.load_img('give file path to a .jpeg picture', target_size = (64, 64))\n",
        "# Convert the image to an array with 3 color channels (RGB)\n",
        "test_image = image.img_to_array(test_image)\n",
        "# Add an extra dimension to match the model's expected input shape (1 image, 64x64 pixels, 3 color channels)\n",
        "test_image = np.expand_dims(test_image, axis = 0)"
      ]
    },
    {
      "cell_type": "markdown",
      "metadata": {},
      "source": [
        "### Predicting the Class of the Image\n",
        "Using the pre-trained model, we predict the class of the loaded image."
      ]
    },
    {
      "cell_type": "code",
      "execution_count": null,
      "metadata": {
        "id": "NJb6CNV_BHp4"
      },
      "outputs": [],
      "source": [
        "# Use the pre-trained model to predict the class of the test image\n",
        "result = classifier.predict(test_image)"
      ]
    },
    {
      "cell_type": "markdown",
      "metadata": {},
      "source": [
        "### Viewing the Model's Class Indices\n",
        "The model is trained to classify images into specific categories. We retrieve the class indices to map predictions to the correct labels."
      ]
    },
    {
      "cell_type": "code",
      "execution_count": null,
      "metadata": {
        "id": "Y6n4zawvBM1m"
      },
      "outputs": [],
      "source": [
        "# Print the class indices from the training set to map predictions to the correct labels\n",
        "\n",
        "print(\"The model class indices are:\", training_set.class_indices)"
      ]
    },
    {
      "cell_type": "markdown",
      "metadata": {},
      "source": [
        "### Mapping Prediction to Class Label\n",
        "We map the predicted class index to the corresponding class label (e.g., 'Coast', 'Desert', etc.)."
      ]
    },
    {
      "cell_type": "code",
      "execution_count": null,
      "metadata": {
        "id": "ygUa8ut2BQGD"
      },
      "outputs": [],
      "source": [
        "# List of class labels corresponding to the model's output classe\n",
        "class_labels = ['Coast', 'Desert', 'Forest', 'Glacier', 'Mountain']\n",
        "\n",
        "# Get the index of the predicted class from the model's output\n",
        "predicted_class_index = np.argmax(result, axis=1)[0]\n",
        "\n",
        "# Map the predicted index to the class label\n",
        "prediction = class_labels[predicted_class_index]"
      ]
    },
    {
      "cell_type": "markdown",
      "metadata": {},
      "source": [
        "### Displaying the Prediction\n",
        "The model's prediction is printed as the corresponding class label."
      ]
    },
    {
      "cell_type": "code",
      "execution_count": null,
      "metadata": {
        "id": "Eel0lRAWBUdb"
      },
      "outputs": [],
      "source": [
        "# Print the final prediction as the class label\n",
        "print(\"Prediction: \" + prediction)"
      ]
    }
  ],
  "metadata": {
    "colab": {
      "authorship_tag": "ABX9TyOSxW22ES0yBozngr63tDN+",
      "include_colab_link": true,
      "provenance": []
    },
    "kernelspec": {
      "display_name": "Python 3",
      "name": "python3"
    },
    "language_info": {
      "name": "python"
    }
  },
  "nbformat": 4,
  "nbformat_minor": 0
}
