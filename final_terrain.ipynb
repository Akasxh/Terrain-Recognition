{
  "nbformat": 4,
  "nbformat_minor": 0,
  "metadata": {
    "colab": {
      "provenance": [],
      "gpuType": "T4",
      "mount_file_id": "1-bcl-YqJzsPGdIY1yLN4-ZEdahcmXSey",
      "authorship_tag": "ABX9TyPMyV3TKz8JkSERG2pFXxtK",
      "include_colab_link": true
    },
    "kernelspec": {
      "name": "python3",
      "display_name": "Python 3"
    },
    "language_info": {
      "name": "python"
    },
    "accelerator": "GPU"
  },
  "cells": [
    {
      "cell_type": "markdown",
      "metadata": {
        "id": "view-in-github",
        "colab_type": "text"
      },
      "source": [
        "<a href=\"https://colab.research.google.com/github/Akasxh/Terrain-Recognition/blob/main/final_terrain.ipynb\" target=\"_parent\"><img src=\"https://colab.research.google.com/assets/colab-badge.svg\" alt=\"Open In Colab\"/></a>"
      ]
    },
    {
      "cell_type": "code",
      "source": [
        "#make sure to have the files of test and training\n",
        "#here I have used google drive conviniently with my collab"
      ],
      "metadata": {
        "id": "u7rWFnoOpSyi"
      },
      "execution_count": null,
      "outputs": []
    },
    {
      "cell_type": "code",
      "source": [
        "from google.colab import drive\n",
        "drive.mount('/gdrive')"
      ],
      "metadata": {
        "colab": {
          "base_uri": "https://localhost:8080/"
        },
        "id": "yU1ytJ-zpVXn",
        "outputId": "e3794a81-e022-415a-b177-e9f1b58a71d4"
      },
      "execution_count": 3,
      "outputs": [
        {
          "output_type": "stream",
          "name": "stdout",
          "text": [
            "Mounted at /gdrive\n"
          ]
        }
      ]
    },
    {
      "cell_type": "code",
      "source": [
        "with open('/gdrive/My Drive/foo.txt', 'w') as f:\n",
        "  f.write('Hello Google Drive!')\n",
        "!cat '/gdrive/My Drive/foo.txt'"
      ],
      "metadata": {
        "colab": {
          "base_uri": "https://localhost:8080/"
        },
        "id": "QVJ6W6papVXn",
        "outputId": "e5994644-01a7-4150-e9bc-ca3cd3761c1e"
      },
      "execution_count": 4,
      "outputs": [
        {
          "output_type": "stream",
          "name": "stdout",
          "text": [
            "Hello Google Drive!"
          ]
        }
      ]
    },
    {
      "cell_type": "code",
      "source": [
        "import numpy as np\n",
        "from keras.preprocessing import image"
      ],
      "metadata": {
        "id": "nmC3VTdPU4bh"
      },
      "execution_count": 5,
      "outputs": []
    },
    {
      "cell_type": "code",
      "source": [
        "# 'Sequential' library used to Initialize NN as sequence of layers (Alternative to Graph initialization)\n",
        "from keras.models import Sequential\n",
        "# 'Conv2D' for 1st step of adding convolution layers to images ('Conv3D' for videos with time as 3rd dimension)\n",
        "from keras.layers import Conv2D\n",
        "# 'MaxPooling2D' step 2 for pooling of max values from Convolution Layers\n",
        "from keras.layers import MaxPooling2D\n",
        "# 'Flatten' Pooled Layers for step 3\n",
        "from keras.layers import Flatten\n",
        "# 'Dense' for fully connected layers that feed into classic ANN\n",
        "from keras.layers import Dense\n",
        "# Load saved Model\n",
        "from keras.models import load_model"
      ],
      "metadata": {
        "id": "g8Xluphv-CQ5"
      },
      "execution_count": null,
      "outputs": []
    },
    {
      "cell_type": "code",
      "execution_count": 6,
      "metadata": {
        "id": "ppvIUhYSoAZN"
      },
      "outputs": [],
      "source": [
        "# Convolution Neural Network\n",
        "\n",
        "# Initializing the CNN\n",
        "classifier = Sequential()\n",
        "\n",
        "# Step 1 - Convolution\n",
        "# 'Conv2D' (Number of Filters, (Filter Row, Filter Column), input shape of inputs = (3 color channels, 64x64 -> 256x256 dimension of 2D array in each channel))\n",
        "# Start with 32 filters, work your way up to 64 -> 128 -> 256\n",
        "# 'input_shape' needs all picture inputs to be the same shape and format (2D array for B&W, 3D for Color images with each 2D array channel being Blue/Green/Red)\n",
        "# 'input_shape' parameter shape matters (3,64,64) vs (64,64,3)\n",
        "# 'Relu' Rectifier Activation Function used to get rid of -ve pixel values and increase non-linearity\n",
        "classifier.add(Conv2D(32, (3, 3), input_shape = (64, 64, 3), activation = 'relu'))\n",
        "\n",
        "# Step 2 - Pooling\n",
        "# Preserves Spatial Structure and performance of model while reducing computation time\n",
        "classifier.add(MaxPooling2D(pool_size = (2, 2)))\n",
        "\n",
        "# Adding a second convolution layer to improve performance\n",
        "# Only need 'input_shape' for Input Layer\n",
        "classifier.add(Conv2D(32, (3, 3), activation = 'relu'))\n",
        "classifier.add(MaxPooling2D(pool_size = (2, 2)))\n",
        "\n",
        "# Step 3 - Flattening\n",
        "# Take all the Pooled Feature Maps and put them into one huge single Vector that will input into a classic NN\n",
        "classifier.add(Flatten())\n",
        "\n",
        "# Step 4 - Full connection\n",
        "# 'Activation' function makes sure relevant Nodes get a stronger vote or no vote\n",
        "classifier.add(Dense(units = 128, activation = 'relu'))\n",
        "# Add final Output Layer with five options\n",
        "classifier.add(Dense(units = 5, activation = 'softmax'))\n",
        "\n",
        "# Compiling the CNN\n",
        "# 'adam' Stochastic Gradient Descent optimizer\n",
        "# 'loss' function. Logarithmic loss 'categorical_crossentropy' for many objects here five\n",
        "\n",
        "classifier.compile(optimizer = 'adam', loss = 'categorical_crossentropy', metrics = ['accuracy'])\n"
      ]
    },
    {
      "cell_type": "code",
      "source": [
        "# Part 2 - Fitting the CNN to the images\n",
        "\n",
        "from keras.preprocessing.image import ImageDataGenerator\n",
        "\n",
        "# Create random transformation from Data to increase Dataset and prevent overfitting\n",
        "train_datagen = ImageDataGenerator(rescale = 1./255,\n",
        "                                   shear_range = 0.2,\n",
        "                                   zoom_range = 0.2,\n",
        "                                   horizontal_flip = True)\n",
        "\n",
        "test_datagen = ImageDataGenerator(rescale = 1./255)"
      ],
      "metadata": {
        "id": "xcVxDvEQ94Tk"
      },
      "execution_count": null,
      "outputs": []
    },
    {
      "cell_type": "code",
      "source": [
        "training_set = train_datagen.flow_from_directory('/gdrive/MyDrive/Training Data',\n",
        "                                                 target_size = (64, 64),\n",
        "                                                 batch_size = 64,\n",
        "                                                 class_mode = 'categorical')\n",
        "\n",
        "\n",
        "test_set = test_datagen.flow_from_directory('/gdrive/MyDrive/Testing Data',\n",
        "                                            target_size = (64, 64),\n",
        "                                            batch_size = 64,\n",
        "                                            class_mode = 'categorical')"
      ],
      "metadata": {
        "colab": {
          "base_uri": "https://localhost:8080/"
        },
        "id": "ICX6HjX0PlYk",
        "outputId": "a9cfb0f3-2260-4cc2-e1fd-0201b662c3e2"
      },
      "execution_count": 9,
      "outputs": [
        {
          "output_type": "stream",
          "name": "stdout",
          "text": [
            "Found 10000 images belonging to 5 classes.\n",
            "Found 500 images belonging to 5 classes.\n"
          ]
        }
      ]
    },
    {
      "cell_type": "code",
      "source": [
        "##model.add(Dense(5, activation='softmax'))\n"
      ],
      "metadata": {
        "id": "WdgKZP18Pfbu"
      },
      "execution_count": null,
      "outputs": []
    },
    {
      "cell_type": "code",
      "source": [
        "# Train the model\n",
        "# Increase 'epochs' to boost model performance (takes longer)\n",
        "classifier.fit_generator(training_set,\n",
        "                         steps_per_epoch = 156,\n",
        "                         epochs = 10,\n",
        "                         validation_data = test_set,\n",
        "                         validation_steps = 7)"
      ],
      "metadata": {
        "colab": {
          "base_uri": "https://localhost:8080/"
        },
        "id": "WL-eSPtKqIOk",
        "outputId": "6ef041a9-21fb-44d1-c32f-8045d90d35ac"
      },
      "execution_count": 10,
      "outputs": [
        {
          "output_type": "stream",
          "name": "stderr",
          "text": [
            "<ipython-input-10-5ac0c837cc52>:3: UserWarning: `Model.fit_generator` is deprecated and will be removed in a future version. Please use `Model.fit`, which supports generators.\n",
            "  classifier.fit_generator(training_set,\n"
          ]
        },
        {
          "output_type": "stream",
          "name": "stdout",
          "text": [
            "Epoch 1/10\n",
            "156/156 [==============================] - 2515s 16s/step - loss: 0.9158 - accuracy: 0.6367 - val_loss: 0.7944 - val_accuracy: 0.7076\n",
            "Epoch 2/10\n",
            "156/156 [==============================] - 31s 201ms/step - loss: 0.7791 - accuracy: 0.7019 - val_loss: 0.7881 - val_accuracy: 0.6853\n",
            "Epoch 3/10\n",
            "156/156 [==============================] - 31s 200ms/step - loss: 0.7477 - accuracy: 0.7170 - val_loss: 0.8297 - val_accuracy: 0.6875\n",
            "Epoch 4/10\n",
            "156/156 [==============================] - 33s 211ms/step - loss: 0.7098 - accuracy: 0.7365 - val_loss: 0.7262 - val_accuracy: 0.7232\n",
            "Epoch 5/10\n",
            "156/156 [==============================] - 32s 202ms/step - loss: 0.6951 - accuracy: 0.7379 - val_loss: 0.7663 - val_accuracy: 0.7277\n",
            "Epoch 6/10\n",
            "156/156 [==============================] - 31s 200ms/step - loss: 0.6569 - accuracy: 0.7519 - val_loss: 0.6711 - val_accuracy: 0.7522\n",
            "Epoch 7/10\n",
            "156/156 [==============================] - 31s 200ms/step - loss: 0.6373 - accuracy: 0.7614 - val_loss: 0.6795 - val_accuracy: 0.7366\n",
            "Epoch 8/10\n",
            "156/156 [==============================] - 31s 200ms/step - loss: 0.6102 - accuracy: 0.7749 - val_loss: 0.6946 - val_accuracy: 0.7478\n",
            "Epoch 9/10\n",
            "156/156 [==============================] - 31s 201ms/step - loss: 0.6054 - accuracy: 0.7797 - val_loss: 0.6374 - val_accuracy: 0.7589\n",
            "Epoch 10/10\n",
            "156/156 [==============================] - 32s 205ms/step - loss: 0.5893 - accuracy: 0.7756 - val_loss: 0.5687 - val_accuracy: 0.7835\n"
          ]
        },
        {
          "output_type": "execute_result",
          "data": {
            "text/plain": [
              "<keras.src.callbacks.History at 0x7ff1303af610>"
            ]
          },
          "metadata": {},
          "execution_count": 10
        }
      ]
    },
    {
      "cell_type": "code",
      "source": [
        "# Save model to file\n",
        "# Architecture of the model, allowing to reuse trained models\n",
        "# Weights of the model\n",
        "# Training configuration (loss, optimizer)\n",
        "# State of the optimizer, allowing to resume training exactly where you left off\n",
        "classifier.save('/gdrive/MyDrive/models/sih_model_y.h5')\n",
        "\n",
        "# Examine model\n",
        "classifier.summary()\n",
        "\n",
        "# Examine Weights\n",
        "classifier.weights\n",
        "\n",
        "# Examine Optimizer\n",
        "classifier.optimizer\n"
      ],
      "metadata": {
        "id": "SLwbD7Fuqi-5",
        "colab": {
          "base_uri": "https://localhost:8080/"
        },
        "outputId": "1c1a7189-4eec-4f70-82fc-de1adaff70b6"
      },
      "execution_count": 11,
      "outputs": [
        {
          "output_type": "stream",
          "name": "stdout",
          "text": [
            "Model: \"sequential_1\"\n",
            "_________________________________________________________________\n",
            " Layer (type)                Output Shape              Param #   \n",
            "=================================================================\n",
            " conv2d_2 (Conv2D)           (None, 62, 62, 32)        896       \n",
            "                                                                 \n",
            " max_pooling2d_2 (MaxPoolin  (None, 31, 31, 32)        0         \n",
            " g2D)                                                            \n",
            "                                                                 \n",
            " conv2d_3 (Conv2D)           (None, 29, 29, 32)        9248      \n",
            "                                                                 \n",
            " max_pooling2d_3 (MaxPoolin  (None, 14, 14, 32)        0         \n",
            " g2D)                                                            \n",
            "                                                                 \n",
            " flatten_1 (Flatten)         (None, 6272)              0         \n",
            "                                                                 \n",
            " dense_2 (Dense)             (None, 128)               802944    \n",
            "                                                                 \n",
            " dense_3 (Dense)             (None, 5)                 645       \n",
            "                                                                 \n",
            "=================================================================\n",
            "Total params: 813733 (3.10 MB)\n",
            "Trainable params: 813733 (3.10 MB)\n",
            "Non-trainable params: 0 (0.00 Byte)\n",
            "_________________________________________________________________\n"
          ]
        },
        {
          "output_type": "stream",
          "name": "stderr",
          "text": [
            "/usr/local/lib/python3.10/dist-packages/keras/src/engine/training.py:3079: UserWarning: You are saving your model as an HDF5 file via `model.save()`. This file format is considered legacy. We recommend using instead the native Keras format, e.g. `model.save('my_model.keras')`.\n",
            "  saving_api.save_model(\n"
          ]
        },
        {
          "output_type": "execute_result",
          "data": {
            "text/plain": [
              "<keras.src.optimizers.adam.Adam at 0x7ff1307b2170>"
            ]
          },
          "metadata": {},
          "execution_count": 11
        }
      ]
    },
    {
      "cell_type": "markdown",
      "source": [
        "### *Now we have completed the model. We call the model now and test it with a image that it was not trained with.*\n"
      ],
      "metadata": {
        "id": "17Ls1BqK-g4m"
      }
    },
    {
      "cell_type": "code",
      "source": [
        "model = load_model('/gdrive/MyDrive/models/sih_model_y.h5')"
      ],
      "metadata": {
        "id": "dCNNn_H9MOfb"
      },
      "execution_count": 12,
      "outputs": []
    },
    {
      "cell_type": "code",
      "source": [
        "test_image = image.load_img('/gdrive/MyDrive/Validation Data/Desert/Desert-Valid (1).jpeg', target_size = (64, 64))\n",
        "# Add a 3rd Color dimension to match Model expectation\n",
        "test_image = image.img_to_array(test_image)\n",
        "# Add one more dimension to beginning of image array so 'Predict' function can receive it (corresponds to Batch, even if only one batch)\n",
        "test_image = np.expand_dims(test_image, axis = 0)"
      ],
      "metadata": {
        "id": "UNXjqGR_UzDa"
      },
      "execution_count": 13,
      "outputs": []
    },
    {
      "cell_type": "code",
      "source": [
        "result = classifier.predict(test_image)"
      ],
      "metadata": {
        "colab": {
          "base_uri": "https://localhost:8080/"
        },
        "id": "VqqM4fEZVrjT",
        "outputId": "a77187e2-e213-4dfa-b0ec-1aa6f66ab864"
      },
      "execution_count": 14,
      "outputs": [
        {
          "output_type": "stream",
          "name": "stdout",
          "text": [
            "1/1 [==============================] - 0s 153ms/step\n"
          ]
        }
      ]
    },
    {
      "cell_type": "code",
      "source": [
        "# We now need to pull up the mapping\n",
        "training_set.class_indices\n",
        "\n",
        "print(\"The model class indices are:\", training_set.class_indices)"
      ],
      "metadata": {
        "colab": {
          "base_uri": "https://localhost:8080/"
        },
        "id": "sDPfmyexVeB_",
        "outputId": "c762c7e8-9e9d-482d-96d1-6bbadd27d986"
      },
      "execution_count": 18,
      "outputs": [
        {
          "output_type": "stream",
          "name": "stdout",
          "text": [
            "The model class indices are: {'Coast': 0, 'Desert': 1, 'Forest': 2, 'Glacier': 3, 'Mountain': 4}\n"
          ]
        }
      ]
    },
    {
      "cell_type": "code",
      "source": [
        "class_labels = ['Coast', 'Desert', 'Forest', 'Glacier', 'Mountain']\n",
        "\n",
        "# Get the index of the predicted class\n",
        "predicted_class_index = np.argmax(result, axis=1)[0]\n",
        "\n",
        "# Use the index to get the class label\n",
        "prediction = class_labels[predicted_class_index]"
      ],
      "metadata": {
        "id": "6ahO41qNVyEY"
      },
      "execution_count": 16,
      "outputs": []
    },
    {
      "cell_type": "code",
      "source": [
        "print(\"Prediction: \" + prediction)\n"
      ],
      "metadata": {
        "colab": {
          "base_uri": "https://localhost:8080/"
        },
        "id": "7u5VzUAuV2Hr",
        "outputId": "049abc62-a4e6-4ae4-ed3f-01cf79d3775b"
      },
      "execution_count": 17,
      "outputs": [
        {
          "output_type": "stream",
          "name": "stdout",
          "text": [
            "Prediction: class2\n"
          ]
        }
      ]
    }
  ]
}